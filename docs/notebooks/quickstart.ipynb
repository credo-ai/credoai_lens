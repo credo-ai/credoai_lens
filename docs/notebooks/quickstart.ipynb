{
   "cells": [
      {
         "cell_type": "markdown",
         "id": "5d608c2a",
         "metadata": {
            "tags": []
         },
         "source": [
            "\n",
            "\n",
            "# Quickstart\n",
            "\n",
            "Get started here. We will assess a payment default prediction model for gender fairness using Lens, in 5 minutes. More in-depth information can be found in the [lens FAQ](https://credoai-lens.readthedocs.io/en/stable/notebooks/lens_faq.html#How-can-I-choose-which-assessments-to-run?)\n",
            "\n",
            "**Setup**\n",
            "\n",
            "Lens installation instruction can be found on [readthedocs](https://credoai-lens.readthedocs.io/en/stable/setup.html)\n",
            "\n",
            "**Find the code**"
         ]
      },
      {
         "cell_type": "raw",
         "id": "cb8273f5",
         "metadata": {},
         "source": [
            "Click <a class=\"reference internal\" download=\"\" href=\"../notebooks/quickstart.ipynb\">here</a> to download this notebook."
         ]
      },
      {
         "cell_type": "markdown",
         "id": "f4d800af",
         "metadata": {},
         "source": [
            "### Get your ML environment ready\n",
            " In this tutorial we will emulate the modeling phase by running a quick script. This script loads a dataset, splits it into training and testing, and fits a model. You can see the full script [here](https://raw.githubusercontent.com/credo-ai/credoai_lens/develop/docs/notebooks/training_script.py).\n",
            "\n",
            "Here we have a gradient boosted classifier trained on the UCI Credit Card Default Dataset."
         ]
      },
      {
         "cell_type": "code",
         "execution_count": 1,
         "id": "9f914dde-164c-40e0-8dc3-f0f5e00121ae",
         "metadata": {},
         "outputs": [],
         "source": [
            "# model and X_test, y_test, etc. are defined by this script\n",
            "from credoai.datasets import fetch_credit_model\n",
            "\n",
            "# model and data are defined by this script\n",
            "X_test, y_test, sensitive_features_test, model = fetch_credit_model()"
         ]
      },
      {
         "cell_type": "markdown",
         "id": "7557a63e-a7d8-4ade-9f71-71416d1abe2d",
         "metadata": {
            "tags": []
         },
         "source": [
            "### Imports"
         ]
      },
      {
         "cell_type": "code",
         "execution_count": 2,
         "id": "1261860b-4ec3-42e1-872a-d357e22bd8b4",
         "metadata": {},
         "outputs": [],
         "source": [
            "# Import Lens and necessary artifacts\n",
            "from credoai.lens import Lens\n",
            "from credoai.artifacts import ClassificationModel, TabularData"
         ]
      },
      {
         "cell_type": "markdown",
         "id": "62e5f9e9",
         "metadata": {},
         "source": [
            "In lens, the classes that evaluate models and/or datasets are called `evaluators`. In this example we are interested in evaluating the model's fairness. For this we can use the `ModelFairness` evaluator. We'll\n",
            "also evaluate the model's performance."
         ]
      },
      {
         "cell_type": "code",
         "execution_count": 3,
         "id": "8d780fa4",
         "metadata": {},
         "outputs": [],
         "source": [
            "from credoai.evaluators import ModelFairness, Performance"
         ]
      },
      {
         "cell_type": "markdown",
         "id": "c0797a51",
         "metadata": {},
         "source": [
            "## Lens in 5 minutes"
         ]
      },
      {
         "cell_type": "markdown",
         "id": "cce779fd",
         "metadata": {
            "tags": []
         },
         "source": [
            "Below is a basic example where our goal is to evaluate the above model. We'll break down this code [below](#Breaking-Down-The-Steps).\n",
            "\n",
            "Briefly, the code is doing four things:\n",
            "\n",
            "* Wrapping ML artifacts (like models and data) in Lens objects\n",
            "* Initializing an instance of Lens. Lens is the main object that performs evaluations. Under the hood, it creates a `pipeline` of evaluations that are run.\n",
            "* Add evaluators to Lens.\n",
            "* Run Lens"
         ]
      },
      {
         "cell_type": "code",
         "execution_count": 4,
         "id": "5b4e6a6a",
         "metadata": {
            "tags": []
         },
         "outputs": [
            {
               "name": "stdout",
               "output_type": "stream",
               "text": [
                  "2022-10-31 14:43:01,052 - lens - INFO - Evaluator ModelFairness added to pipeline. Sensitive feature: SEX\n",
                  "2022-10-31 14:43:01,243 - lens - INFO - fairness metric, equal_opportunity, unused by PerformanceModule\n",
                  "2022-10-31 14:43:01,250 - lens - INFO - Evaluator Performance added to pipeline. \n",
                  "2022-10-31 14:43:01,250 - lens - INFO - Running evaluation for step: PipelineStep(evaluator=<credoai.evaluators.fairness.ModelFairness object at 0x2a5a20fd0>, metadata={'evaluator': 'ModelFairness', 'sensitive_feature': 'SEX', 'dataset_type': 'assessment_data'})\n",
                  "2022-10-31 14:43:01,259 - lens - INFO - Running evaluation for step: PipelineStep(evaluator=<credoai.evaluators.performance.Performance object at 0x2a5a3dac0>, metadata={'evaluator': 'Performance'})\n"
               ]
            },
            {
               "data": {
                  "text/plain": [
                     "<credoai.lens.lens.Lens at 0x2a5a3da30>"
                  ]
               },
               "execution_count": 4,
               "metadata": {},
               "output_type": "execute_result"
            }
         ],
         "source": [
            "# set up model and data artifacts\n",
            "credo_model = ClassificationModel(name=\"credit_default_classifier\", model_like=model)\n",
            "credo_data = TabularData(\n",
            "    name=\"UCI-credit-default\",\n",
            "    X=X_test,\n",
            "    y=y_test,\n",
            "    sensitive_features=sensitive_features_test,\n",
            ")\n",
            "\n",
            "# Initialization of the Lens object\n",
            "lens = Lens(model=credo_model, assessment_data=credo_data)\n",
            "\n",
            "# initialize the evaluator and add it to Lens\n",
            "metrics = ['precision_score', 'recall_score', 'equal_opportunity']\n",
            "lens.add(ModelFairness(metrics=metrics))\n",
            "lens.add(Performance(metrics=metrics))\n",
            "\n",
            "# run Lens\n",
            "lens.run()"
         ]
      },
      {
         "cell_type": "markdown",
         "id": "c188b100-2ebb-42c8-9451-2812fe7383d6",
         "metadata": {},
         "source": [
            "### Getting results within your python environment\n",
            "\n",
            "`lens.get_results()` provides a list where the results of the evaluators (a list of dataframes) are stored along with the evaluator metadata. In this case, there are 2 results - one for each evaluator."
         ]
      },
      {
         "cell_type": "code",
         "execution_count": 5,
         "id": "7eeac730-29bd-4300-8e02-d8677e10123e",
         "metadata": {},
         "outputs": [
            {
               "name": "stdout",
               "output_type": "stream",
               "text": [
                  "Results for 2 evaluators\n"
               ]
            }
         ],
         "source": [
            "results = lens.get_results()\n",
            "print(f\"Results for {len(results)} evaluators\")"
         ]
      },
      {
         "cell_type": "markdown",
         "id": "8fa1eab0",
         "metadata": {},
         "source": [
            "`lens.get_results()` has some arguments, which makes it easier for you to get a subset of results. These are the same arguments that can be passed to `lens.get_pipeline` and `lens.get_evidence`"
         ]
      },
      {
         "cell_type": "code",
         "execution_count": 6,
         "id": "f7735dd2-5797-45aa-90f2-212faa063edd",
         "metadata": {},
         "outputs": [
            {
               "data": {
                  "text/plain": [
                     "[{'metadata': {'evaluator': 'Performance'},\n",
                     "  'results': [              type     value\n",
                     "   0  precision_score  0.628081\n",
                     "   1     recall_score  0.360172]}]"
                  ]
               },
               "execution_count": 6,
               "metadata": {},
               "output_type": "execute_result"
            }
         ],
         "source": [
            "lens.get_results(evaluator_name='Performance')"
         ]
      },
      {
         "cell_type": "markdown",
         "id": "94ca7568",
         "metadata": {},
         "source": [
            "## Using Len's pipeline argument"
         ]
      },
      {
         "cell_type": "markdown",
         "id": "498a11b3",
         "metadata": {},
         "source": [
            "If we want to add multiple evaluators to our pipeline, one way of doing it could be repeating the `add` step, as shown above. Another way is to define the pipeline steps, and pass it to `Lens` at initialization time. Let's explore the latter!"
         ]
      },
      {
         "cell_type": "code",
         "execution_count": 7,
         "id": "f506b7d8",
         "metadata": {},
         "outputs": [
            {
               "name": "stdout",
               "output_type": "stream",
               "text": [
                  "2022-10-27 09:43:28,339 - lens - INFO - Evaluator ModelFairness added to pipeline. Sensitive feature: SEX\n",
                  "2022-10-27 09:43:28,555 - lens - INFO - fairness metric, equal_opportunity, unused by PerformanceModule\n",
                  "2022-10-27 09:43:28,580 - lens - INFO - Evaluator Performance added to pipeline. \n"
               ]
            }
         ],
         "source": [
            "pipeline = [\n",
            "    (ModelFairness(metrics)),\n",
            "    (Performance(metrics)),\n",
            "]\n",
            "lens = Lens(model=credo_model, assessment_data=credo_data, pipeline=pipeline)"
         ]
      },
      {
         "cell_type": "markdown",
         "id": "aa465d26",
         "metadata": {},
         "source": [
            "Above, each of the `tuples` in the `list` is in the form `(instantiated_evaluator, id)`."
         ]
      },
      {
         "cell_type": "code",
         "execution_count": 8,
         "id": "c46bdd9e",
         "metadata": {},
         "outputs": [
            {
               "name": "stdout",
               "output_type": "stream",
               "text": [
                  "2022-10-27 09:43:28,583 - lens - INFO - Running evaluation for step: PipelineStep(evaluator=<credoai.evaluators.fairness.ModelFairness object at 0x2ac4664c0>, metadata={'evaluator': 'ModelFairness', 'sensitive_feature': 'SEX', 'dataset_type': 'assessment_data'})\n",
                  "2022-10-27 09:43:28,610 - lens - INFO - Running evaluation for step: PipelineStep(evaluator=<credoai.evaluators.performance.Performance object at 0x2ac45cd30>, metadata={'evaluator': 'Performance'})\n",
                  "\n",
                  "Found results for 2 evaluators\n"
               ]
            }
         ],
         "source": [
            "# notice that Lens functions can be chained together\n",
            "results = lens.run().get_results()\n",
            "print(f'\\nFound results for {len(results)} evaluators')"
         ]
      },
      {
         "cell_type": "markdown",
         "id": "601f5203",
         "metadata": {},
         "source": [
            "Let's check that we have results for both of our evaluators."
         ]
      },
      {
         "cell_type": "code",
         "execution_count": 9,
         "id": "ab0ed632",
         "metadata": {},
         "outputs": [
            {
               "data": {
                  "text/plain": [
                     "{'metadata': {'evaluator': 'ModelFairness',\n",
                     "  'sensitive_feature': 'SEX',\n",
                     "  'dataset_type': 'assessment_data'},\n",
                     " 'results': [                     type     value\n",
                     "  0       equal_opportunity  0.027686\n",
                     "  1  precision_score_parity  0.016322\n",
                     "  2     recall_score_parity  0.027686,\n",
                     "        SEX             type     value\n",
                     "  0  female  precision_score  0.618687\n",
                     "  1    male  precision_score  0.635009\n",
                     "  2  female     recall_score  0.344585\n",
                     "  3    male     recall_score  0.372271]}"
                  ]
               },
               "execution_count": 9,
               "metadata": {},
               "output_type": "execute_result"
            }
         ],
         "source": [
            "results[0]"
         ]
      },
      {
         "cell_type": "code",
         "execution_count": 10,
         "id": "5bb680a5",
         "metadata": {},
         "outputs": [
            {
               "data": {
                  "text/plain": [
                     "{'metadata': {'evaluator': 'Performance'},\n",
                     " 'results': [              type     value\n",
                     "  0  precision_score  0.628081\n",
                     "  1     recall_score  0.360172]}"
                  ]
               },
               "execution_count": 10,
               "metadata": {},
               "output_type": "execute_result"
            }
         ],
         "source": [
            "results[1]"
         ]
      },
      {
         "cell_type": "markdown",
         "id": "bb18d57e",
         "metadata": {},
         "source": [
            "## That's it!\n",
            "\n",
            "That should get you up and running. Next steps include:\n",
            "\n",
            "* Trying out other evaluators (they are all accessible via `credoai.evaluators`)\n",
            "* Checking out our developer guide to better understand the Lens ecosystem and see how you can extend it.\n",
            "* Exploring the Credo AI Governance Platform, which will connect AI assessments with customizable governance to support reporting, compliance, multi-stakeholder translation and more!"
         ]
      },
      {
         "cell_type": "markdown",
         "id": "c6c05dfe",
         "metadata": {
            "tags": []
         },
         "source": [
            "## Breaking Down The Steps\n",
            "\n",
            "### Preparing artifacts\n",
            "\n",
            "Lens interacts with \"AI Artifacts\" which wrap model and data objects and standardize them for use by different evaluators.\n",
            "\n",
            "Below we create a `ClassificationModel` artifact. This is a light wrapper for any kind of fitted classification model-like object. \n",
            "\n",
            "We also create a `TabularData` artifact which stores X, y and sensitive features."
         ]
      },
      {
         "cell_type": "code",
         "execution_count": 11,
         "id": "a4f1fae7",
         "metadata": {},
         "outputs": [],
         "source": [
            "# set up model and data artifacts\n",
            "credo_model = ClassificationModel(name=\"credit_default_classifier\", model_like=model)\n",
            "\n",
            "credo_data = TabularData(\n",
            "    name=\"UCI-credit-default\",\n",
            "    X=X_test,\n",
            "    y=y_test,\n",
            "    sensitive_features=sensitive_features_test,\n",
            ")"
         ]
      },
      {
         "cell_type": "markdown",
         "id": "114bd0bb",
         "metadata": {
            "tags": []
         },
         "source": [
            "#### Model\n",
            "\n",
            "Model type objects, like `ClassificationModel` used above, serve as adapters between arbitrary models and the evaluators in Lens. Some evaluators depend on Model instantiating certain methods. For example, `ClassificationModel` can accept any generic object having `predict` and `predict_proba` methods, including fitted sklearn pipelines.\n",
            "\n"
         ]
      },
      {
         "cell_type": "markdown",
         "id": "db7fb09b",
         "metadata": {
            "tags": []
         },
         "source": [
            "#### Data\n",
            "\n",
            "_Data_ type artifact, like `TabularData` serve as adapters between datasets and the evaluators in Lens.\n",
            "\n",
            "When you pass data to a _Data_ artifact, the artifact performs various steps of validation, and formats them so that they can be used by evaluators. The aim of this procedure is to preempt errors down the line.\n",
            "\n",
            "You can pass Data to Lens as a **training dataset** or an **assessment dataset** (see lens class documentation). If the former, it will not be used to assess the model. Instead, dataset assessments will be performed on the dataset (e.g., fairness assessment). The validation dataset will be assessed in the same way, but _also_ used to assess the model, if provided.\n",
            "\n",
            "Similarly to _Model_ type objects, _Data_ objects can be customized, see !!insertlink!!"
         ]
      },
      {
         "cell_type": "markdown",
         "id": "e4583249",
         "metadata": {},
         "source": [
            "### Evaluators \n",
            "\n",
            "Lens uses the above artifacts to ensure a successfull run of the evaluators. As we have seen in the sections [Lens in 5 minutes](##Lens-in-5-minutes) and [Adding multiple evaluators](##Adding-multiple-evaluators), multiple evaluators can be added to _Lens_ pipeline. Each evaluators contains information on what it needs in order to run successfully, and it executes a validation step at _add_ time.\n",
            "\n",
            "The result of the validation depends on what artifacts are available, their content and the type of evaluator being added to the pipeline. In case the validation process fails, the user is notified the reason why the evaluator cannot be added to the pipeline.\n",
            "\n",
            "See for example:"
         ]
      },
      {
         "cell_type": "code",
         "execution_count": 12,
         "id": "836cccd0",
         "metadata": {},
         "outputs": [
            {
               "name": "stdout",
               "output_type": "stream",
               "text": [
                  "2022-10-27 09:43:28,636 - lens - INFO - Evaluator Privacy NOT added to the pipeline: Missing object training_data\n"
               ]
            },
            {
               "data": {
                  "text/plain": [
                     "<credoai.lens.lens.Lens at 0x2ac486d30>"
                  ]
               },
               "execution_count": 12,
               "metadata": {},
               "output_type": "execute_result"
            }
         ],
         "source": [
            "from credoai.evaluators import Privacy\n",
            "lens.add(Privacy())"
         ]
      },
      {
         "cell_type": "markdown",
         "id": "e76369e8",
         "metadata": {},
         "source": [
            "Currently no automatic run of evaluators is supported. However, when Lens is used in combination with Credo AI Platform, it is possible to download an assessment plan which then gets converted into a set of evaluations that Lens can run programmatically. For more information see the [governance tutorial](https://credoai-lens.readthedocs.io/en/stable/notebooks/governance_integration.html)."
         ]
      },
      {
         "cell_type": "markdown",
         "id": "cdb3c5b8",
         "metadata": {},
         "source": [
            "### Run Lens\n",
            "\n",
            "After we have initialized _Lens_ the _Model_ and _Data_ (`ClassificationModel` and `TabularData` in our example) type artifacts, we can add whichever evaluators we want to the pipeline, and finally run it!"
         ]
      },
      {
         "cell_type": "code",
         "execution_count": 13,
         "id": "fc76430f",
         "metadata": {},
         "outputs": [
            {
               "name": "stdout",
               "output_type": "stream",
               "text": [
                  "2022-10-27 09:43:28,896 - lens - INFO - Evaluator ModelFairness added to pipeline. Sensitive feature: SEX\n",
                  "2022-10-27 09:43:28,896 - lens - INFO - Running evaluation for step: PipelineStep(evaluator=<credoai.evaluators.fairness.ModelFairness object at 0x2ac509310>, metadata={'evaluator': 'ModelFairness', 'sensitive_feature': 'SEX', 'dataset_type': 'assessment_data'})\n"
               ]
            },
            {
               "data": {
                  "text/plain": [
                     "<credoai.lens.lens.Lens at 0x2ac4e00d0>"
                  ]
               },
               "execution_count": 13,
               "metadata": {},
               "output_type": "execute_result"
            }
         ],
         "source": [
            "lens = Lens(model=credo_model, assessment_data=credo_data)\n",
            "metrics = ['precision_score', 'recall_score', 'equal_opportunity']\n",
            "lens.add(ModelFairness(metrics=metrics))\n",
            "lens.run()"
         ]
      },
      {
         "cell_type": "markdown",
         "id": "673dbbc9",
         "metadata": {},
         "source": [
            "As you can notice, when adding _evaluators_ to lens, they need to be instantiated. If any extra arguments need to be passed to the evaluator (like metrics in this case), this is the time to do it."
         ]
      },
      {
         "cell_type": "markdown",
         "id": "2a5dcbe3",
         "metadata": {},
         "source": [
            "**Getting Evaluator Results**\n",
            "\n",
            "Afte the pipeline is run, the results become accessible via the method `get_results()`\n",
            "\n",
            "`lens.get_results()` provides a dictionary where the results of the evaluators are stored as values, and the keys correspond to the ids of the evaluators.  \n",
            "\n",
            "In the previous case we specified the id of the evaluator when we added `ModelFairness` to the pipeline, however `id` is an optional argument for the `add` method. If omitted, a random one will be generated."
         ]
      },
      {
         "cell_type": "code",
         "execution_count": 14,
         "id": "031d237a",
         "metadata": {},
         "outputs": [
            {
               "data": {
                  "text/plain": [
                     "[{'metadata': {'evaluator': 'ModelFairness',\n",
                     "   'sensitive_feature': 'SEX',\n",
                     "   'dataset_type': 'assessment_data'},\n",
                     "  'results': [                     type     value\n",
                     "   0       equal_opportunity  0.027686\n",
                     "   1  precision_score_parity  0.016322\n",
                     "   2     recall_score_parity  0.027686,\n",
                     "         SEX             type     value\n",
                     "   0  female  precision_score  0.618687\n",
                     "   1    male  precision_score  0.635009\n",
                     "   2  female     recall_score  0.344585\n",
                     "   3    male     recall_score  0.372271]}]"
                  ]
               },
               "execution_count": 14,
               "metadata": {},
               "output_type": "execute_result"
            }
         ],
         "source": [
            "lens.get_results()"
         ]
      },
      {
         "cell_type": "markdown",
         "id": "ac3bfe1a",
         "metadata": {},
         "source": [
            "**Credo AI Governance Platform**\n",
            "\n",
            "For information on how to interact with the plaform, please look into: [Connecting with Governance App](https://credoai-lens.readthedocs.io/en/stable/notebooks/governance_integration.html) tutorial for directions.\n"
         ]
      }
   ],
   "metadata": {
      "kernelspec": {
         "display_name": "Python 3.9.13 ('.env2': venv)",
         "language": "python",
         "name": "python3"
      },
      "language_info": {
         "codemirror_mode": {
            "name": "ipython",
            "version": 3
         },
         "file_extension": ".py",
         "mimetype": "text/x-python",
         "name": "python",
         "nbconvert_exporter": "python",
         "pygments_lexer": "ipython3",
         "version": "3.10.6"
      },
      "vscode": {
         "interpreter": {
            "hash": "776e6aa59dc90746a1e0b0031fa666bbaa9989455877b21e76e9f315ecb3a137"
         }
      }
   },
   "nbformat": 4,
   "nbformat_minor": 5
}
